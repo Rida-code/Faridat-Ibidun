{
  "nbformat": 4,
  "nbformat_minor": 0,
  "metadata": {
    "colab": {
      "provenance": [],
      "authorship_tag": "ABX9TyPbPjPzZZbfBz5wWK54mkZc",
      "include_colab_link": true
    },
    "kernelspec": {
      "name": "python3",
      "display_name": "Python 3"
    },
    "language_info": {
      "name": "python"
    }
  },
  "cells": [
    {
      "cell_type": "markdown",
      "metadata": {
        "id": "view-in-github",
        "colab_type": "text"
      },
      "source": [
        "<a href=\"https://colab.research.google.com/github/Rida-code/Faridat-Ibidun/blob/main/AirPollutionEvaluation.ipynb\" target=\"_parent\"><img src=\"https://colab.research.google.com/assets/colab-badge.svg\" alt=\"Open In Colab\"/></a>"
      ]
    },
    {
      "cell_type": "code",
      "execution_count": 1,
      "metadata": {
        "colab": {
          "base_uri": "https://localhost:8080/",
          "height": 0
        },
        "id": "FY7vNgqD9vxS",
        "outputId": "c0fa340c-95b9-402b-c96d-2c8e789cca21"
      },
      "outputs": [
        {
          "output_type": "execute_result",
          "data": {
            "text/plain": [
              "(0.44375000000000053, 0.20312500000000056, 0.45069390943299925)"
            ]
          },
          "metadata": {},
          "execution_count": 1
        }
      ],
      "source": [
        "import numpy as np\n",
        "from sklearn.metrics import mean_absolute_error, mean_squared_error\n",
        "\n",
        "# Actual Pollution Levels\n",
        "y_actual = np.array([45.2, 55.6, 38.9, 61.3, 48.7, 41.5, 53.2, 47.1, 49.8, 42.3, 58.4, 49.1, 47.8, 35.6, 43.9, 33.4])\n",
        "\n",
        "# Predicted Pollution Levels\n",
        "y_predicted = np.array([44.8, 56.2, 39.4, 60.9, 48.3, 42.1, 53.6, 46.7, 49.5, 42.7, 58.0, 49.6, 47.4, 36.1, 43.5, 33.9])\n",
        "\n",
        "# Mean Absolute Error (MAE)\n",
        "mae = mean_absolute_error(y_actual, y_predicted)\n",
        "\n",
        "# Mean Squared Error (MSE)\n",
        "mse = mean_squared_error(y_actual, y_predicted)\n",
        "\n",
        "# Root Mean Squared Error (RMSE)\n",
        "rmse = np.sqrt(mse)\n",
        "\n",
        "mae, mse, rmse\n"
      ]
    }
  ]
}